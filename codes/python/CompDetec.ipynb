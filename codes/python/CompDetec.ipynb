{
 "cells": [
  {
   "cell_type": "code",
   "execution_count": 3,
   "id": "14b770f3",
   "metadata": {},
   "outputs": [],
   "source": [
    "import numpy as np\n",
    "import ROOT"
   ]
  },
  {
   "cell_type": "code",
   "execution_count": 9,
   "id": "e0104a6f",
   "metadata": {},
   "outputs": [],
   "source": [
    "myfile=ROOT.TFile.Open(\"~/Scin_CF4_TUCAN/build-test/output0_t0.root\",\"READ\")"
   ]
  },
  {
   "cell_type": "code",
   "execution_count": 7,
   "id": "c41d2b93",
   "metadata": {},
   "outputs": [
    {
     "name": "stdout",
     "output_type": "stream",
     "text": [
      "TFile**\t\t/home/tushar/Scin_CF4_TUCAN/build-test/output0_t0.root\t\n",
      " TFile*\t\t/home/tushar/Scin_CF4_TUCAN/build-test/output0_t0.root\t\n",
      "  KEY: TTree\tScoring;1\tScoring\n"
     ]
    }
   ],
   "source": [
    "myfile.ls()"
   ]
  },
  {
   "cell_type": "code",
   "execution_count": 11,
   "id": "affe5811",
   "metadata": {},
   "outputs": [],
   "source": [
    "mytree=myfile[\"Scoring\"]"
   ]
  },
  {
   "cell_type": "code",
   "execution_count": 15,
   "id": "935ac9a2",
   "metadata": {},
   "outputs": [],
   "source": [
    "branches= mytree.GetListOfBranches()"
   ]
  },
  {
   "cell_type": "code",
   "execution_count": 19,
   "id": "dfb2a574",
   "metadata": {},
   "outputs": [
    {
     "name": "stdout",
     "output_type": "stream",
     "text": [
      "No of branches =  7\n"
     ]
    }
   ],
   "source": [
    "print(\"No of branches = \",branches.GetEntries())    "
   ]
  },
  {
   "cell_type": "code",
   "execution_count": 20,
   "id": "a069a349",
   "metadata": {},
   "outputs": [
    {
     "name": "stdout",
     "output_type": "stream",
     "text": [
      "Name of branches\n",
      "c0fEdep\n",
      "c1Xgen\n",
      "c2Ygen\n",
      "c3Zgen\n",
      "c4PMT0SC\n",
      "c5PMT1SC\n",
      "c6PMT2SC\n"
     ]
    }
   ],
   "source": [
    "print(\"Name of branches\")\n",
    "for i in branches:\n",
    "    print(i.GetName())"
   ]
  },
  {
   "cell_type": "code",
   "execution_count": null,
   "id": "53c87139",
   "metadata": {},
   "outputs": [],
   "source": [
    "# for entry in mytree:\n",
    "#     print(entry.c0fEdep)"
   ]
  },
  {
   "cell_type": "code",
   "execution_count": 21,
   "id": "7a6b777a",
   "metadata": {},
   "outputs": [],
   "source": [
    "h1 = ROOT.TH1D(\"h1e\",\"c0fEdep from v1\",50,0,1);"
   ]
  },
  {
   "cell_type": "code",
   "execution_count": 29,
   "id": "f1c45ae6",
   "metadata": {},
   "outputs": [],
   "source": [
    "for entry in mytree:\n",
    "    h1.Fill(entry.c0fEdep)"
   ]
  },
  {
   "cell_type": "code",
   "execution_count": 44,
   "id": "1d98798c",
   "metadata": {},
   "outputs": [],
   "source": [
    "from ROOT import gROOT\n",
    "gROOT.SetBatch(False)"
   ]
  },
  {
   "cell_type": "code",
   "execution_count": 45,
   "id": "66fe7507",
   "metadata": {},
   "outputs": [],
   "source": [
    "h1.Draw()"
   ]
  },
  {
   "cell_type": "code",
   "execution_count": 32,
   "id": "05982397",
   "metadata": {},
   "outputs": [
    {
     "name": "stdout",
     "output_type": "stream",
     "text": [
      "Entries in histogram: 50216.0\n"
     ]
    }
   ],
   "source": [
    "print(f\"Entries in histogram: {h1.GetEntries()}\")"
   ]
  }
 ],
 "metadata": {
  "kernelspec": {
   "display_name": "Python 3 (ipykernel)",
   "language": "python",
   "name": "python3"
  },
  "language_info": {
   "codemirror_mode": {
    "name": "ipython",
    "version": 3
   },
   "file_extension": ".py",
   "mimetype": "text/x-python",
   "name": "python",
   "nbconvert_exporter": "python",
   "pygments_lexer": "ipython3",
   "version": "3.12.3"
  }
 },
 "nbformat": 4,
 "nbformat_minor": 5
}
